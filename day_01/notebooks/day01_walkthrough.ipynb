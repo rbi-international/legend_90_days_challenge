{
 "cells": [
  {
   "cell_type": "markdown",
   "id": "81631dc3",
   "metadata": {},
   "source": [
    "# 🧠 Day 01 Walkthrough: Smart Python Setup\n",
    "Welcome to Day 01 of the **Legendary AI 90-Day Challenge**! 🎯\n",
    "\n",
    "In this notebook, we explore the smart Python utilities we built:\n",
    "\n",
    "- Logging system with both console and file output\n",
    "- Decorators for timing and memoization\n",
    "- Color-coded logs for clean terminal experience"
   ]
  },
  {
   "cell_type": "code",
   "execution_count": null,
   "id": "d5287f0c",
   "metadata": {},
   "outputs": [],
   "source": [
    "# ✅ Setup path to import from src/utils\n",
    "import os, sys\n",
    "sys.path.append(os.path.abspath('../src'))\n",
    "from utils.python_sniper_utils import setup_logger, log_time, memoize, color_log\n",
    "logger = setup_logger()"
   ]
  },
  {
   "cell_type": "markdown",
   "id": "8ea100a6",
   "metadata": {},
   "source": [
    "## 🧪 Test 1: Timing with `@log_time`"
   ]
  },
  {
   "cell_type": "code",
   "execution_count": null,
   "id": "ffe4eaf2",
   "metadata": {},
   "outputs": [],
   "source": [
    "@log_time\n",
    "def slow_add(a, b):\n",
    "    import time; time.sleep(1)\n",
    "    return a + b\n",
    "\n",
    "slow_add(5, 10)"
   ]
  },
  {
   "cell_type": "markdown",
   "id": "95703cce",
   "metadata": {},
   "source": [
    "## 🧠 Test 2: Caching with `@memoize`"
   ]
  },
  {
   "cell_type": "code",
   "execution_count": null,
   "id": "8c3d896a",
   "metadata": {},
   "outputs": [],
   "source": [
    "@memoize\n",
    "def square(n):\n",
    "    return n * n\n",
    "\n",
    "square(7)\n",
    "square(7)  # Cached result"
   ]
  },
  {
   "cell_type": "markdown",
   "id": "edc94daf",
   "metadata": {},
   "source": [
    "## 🎨 Test 3: Colored Logging to Terminal"
   ]
  },
  {
   "cell_type": "code",
   "execution_count": null,
   "id": "2ebec9b0",
   "metadata": {},
   "outputs": [],
   "source": [
    "color_log('Info message', level='info')\n",
    "color_log('Success message', level='success')\n",
    "color_log('Warning message', level='warning')\n",
    "color_log('Error message', level='error')"
   ]
  },
  {
   "cell_type": "markdown",
   "id": "867d89cc",
   "metadata": {},
   "source": [
    "## 📁 Log File Check\n",
    "Log entries are saved to: `../logs/legendary_log.log`.\n",
    "\n",
    "Open it manually to verify written entries."
   ]
  },
  {
   "cell_type": "markdown",
   "id": "419e9f6b",
   "metadata": {},
   "source": [
    "## ✅ Summary\n",
    "- You created a reusable logging system.\n",
    "- You used decorators for smart timing and caching.\n",
    "- You wrote your first modular and testable Python system.\n",
    "\n",
    "Day 01 is done — you're on the path to AI mastery 💪"
   ]
  }
 ],
 "metadata": {},
 "nbformat": 4,
 "nbformat_minor": 5
}